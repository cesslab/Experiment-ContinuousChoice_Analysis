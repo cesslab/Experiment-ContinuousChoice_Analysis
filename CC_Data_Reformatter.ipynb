{
 "cells": [
  {
   "cell_type": "markdown",
   "metadata": {},
   "source": [
    "## Continuous Choice Data Reformatter"
   ]
  },
  {
   "cell_type": "code",
   "execution_count": 110,
   "metadata": {},
   "outputs": [],
   "source": [
    "import pandas as pd\n",
    "import json"
   ]
  },
  {
   "cell_type": "code",
   "execution_count": 111,
   "metadata": {},
   "outputs": [],
   "source": [
    "unformatted_session_1_df = pd.read_excel('./sessions/session_1/session_1.xlsx')\n",
    "unformatted_session_2_df = pd.read_excel('./sessions/session_2/session_2.xlsx')"
   ]
  },
  {
   "cell_type": "code",
   "execution_count": 112,
   "metadata": {},
   "outputs": [],
   "source": [
    "def format_data(df):\n",
    "    # for each subject\n",
    "    columns = {'player': [], 'game': [], 'second': [], 'choice': []}\n",
    "    for row_id, row in df.iterrows():\n",
    "        # loop through all the games\n",
    "        strategies = []\n",
    "        for game in range(1, 21):\n",
    "            strategies = json.loads(df.loc[row_id]['game.{}.player.strategies'.format(game)])\n",
    "\n",
    "            # create a row for each second\n",
    "            for second in range(1, 61):\n",
    "                columns['player'].append(df.loc[row_id]['participant.id_in_session'])\n",
    "                columns['game'].append(game)\n",
    "                columns['second'].append(second)\n",
    "\n",
    "                # if list is empty\n",
    "                if len(strategies) == 0:\n",
    "                    columns['choice'].append(-1)\n",
    "                else:\n",
    "                    choice = -1\n",
    "                    for s in reversed(strategies):\n",
    "                        if s['time'] <= second:\n",
    "                            choice = s['strategy']\n",
    "                            break\n",
    "                    columns['choice'].append(choice)\n",
    "\n",
    "    return pd.DataFrame.from_dict(columns)"
   ]
  },
  {
   "cell_type": "code",
   "execution_count": 113,
   "metadata": {},
   "outputs": [],
   "source": [
    "formatted_session_1 = format_data(unformatted_session_1_df)\n",
    "formatted_session_2 = format_data(unformatted_session_2_df)\n",
    "formatted_df.to_excel('session_1_formatted.xlsx', engine='xlsxwriter')\n",
    "formatted_df.to_excel('session_2_formatted.xlsx', engine='xlsxwriter')"
   ]
  }
 ],
 "metadata": {
  "kernelspec": {
   "display_name": "Python 3",
   "language": "python",
   "name": "python3"
  },
  "language_info": {
   "codemirror_mode": {
    "name": "ipython",
    "version": 3
   },
   "file_extension": ".py",
   "mimetype": "text/x-python",
   "name": "python",
   "nbconvert_exporter": "python",
   "pygments_lexer": "ipython3",
   "version": "3.7.0"
  }
 },
 "nbformat": 4,
 "nbformat_minor": 2
}
